{
 "cells": [
  {
   "cell_type": "markdown",
   "metadata": {},
   "source": [
    "# Nomes"
   ]
  },
  {
   "cell_type": "markdown",
   "metadata": {},
   "source": [
    "- André Monteiro Sanches Garcia -19.01230-6\n",
    "- Arthur C Sarnadas – 19.00756-6\n",
    "- Giovanni B Benuthe – 19.00043-0\n",
    "- Guilherme Bernardelli Zeigler - 19.02453-3"
   ]
  },
  {
   "cell_type": "markdown",
   "metadata": {},
   "source": [
    "## Reconhecimento de imagens de frutas e se estão ou não podres\n",
    "Existem 6 categorias de fruta: maça fresca, laranja fresca, banana fresca, maca podre, laranja podre e banana podre.Isso significa que nossa camada de saida receberá 6 neuronios. Será necessário compilar o modelo com categorical_crossentropy, ja que temos mais de duas categorias."
   ]
  },
  {
   "cell_type": "markdown",
   "metadata": {},
   "source": [
    "<img src=\"./images/fruits.png\" style=\"width: 600px;\">"
   ]
  },
  {
   "cell_type": "markdown",
   "metadata": {},
   "source": [
    "# Carregando Dataset"
   ]
  },
  {
   "cell_type": "code",
   "execution_count": 1,
   "metadata": {},
   "outputs": [],
   "source": [
    "import pandas as pd"
   ]
  },
  {
   "cell_type": "markdown",
   "metadata": {},
   "source": [
    "## Data Augmentation"
   ]
  },
  {
   "cell_type": "markdown",
   "metadata": {},
   "source": [
    "Para aprimorar os dados que possuimos, será realizada a etapa de Data Augmentation, que basicamente aplica diferentes filtros a imagens que possuimos para que o modelo tenha um escopo maior de aprendizado"
   ]
  },
  {
   "cell_type": "code",
   "execution_count": 2,
   "metadata": {},
   "outputs": [],
   "source": [
    "from tensorflow.keras.preprocessing.image import ImageDataGenerator\n",
    "\n",
    "datagen_train = ImageDataGenerator(samplewise_center=True,  \n",
    "    rotation_range=10,     # randomicamente rotaciona a imagem (degrees, 0 para 180)\n",
    "    zoom_range=0.1,        # .. da zoom na imagem\n",
    "    width_shift_range=0.1, # .. mexe para esquerda/direita \n",
    "    height_shift_range=0.1,# .. mexe para o cima/baixo   \n",
    "    horizontal_flip=True,  # .. inverte horizontalmente \n",
    "    vertical_flip=False,)   # .. inverte verticalmente \n",
    "\n",
    "datagen_valid = ImageDataGenerator(samplewise_center=True,  \n",
    "    rotation_range=10,  \n",
    "    zoom_range=0.1,  \n",
    "    width_shift_range=0.1,  \n",
    "    height_shift_range=0.1, \n",
    "    horizontal_flip=True,  \n",
    "    vertical_flip=False,)"
   ]
  },
  {
   "cell_type": "markdown",
   "metadata": {},
   "source": [
    "## Load"
   ]
  },
  {
   "cell_type": "code",
   "execution_count": 3,
   "metadata": {},
   "outputs": [
    {
     "name": "stdout",
     "output_type": "stream",
     "text": [
      "Found 1182 images belonging to 6 classes.\n",
      "Found 329 images belonging to 6 classes.\n"
     ]
    }
   ],
   "source": [
    "train = datagen_train.flow_from_directory(\n",
    "    'data/fruits/train',\n",
    "    target_size=(224,224),\n",
    "    color_mode=\"rgb\",\n",
    "    class_mode=\"categorical\",\n",
    ")\n",
    "\n",
    "valid = datagen_valid.flow_from_directory(\n",
    "    'data/fruits/valid',\n",
    "    target_size=(224,224),\n",
    "    color_mode=\"rgb\",\n",
    "    class_mode=\"categorical\",\n",
    ")"
   ]
  },
  {
   "cell_type": "markdown",
   "metadata": {},
   "source": [
    "## Imagenet - Modelo base "
   ]
  },
  {
   "cell_type": "markdown",
   "metadata": {},
   "source": [
    "Iremos utilizar um modelo pré-treinado do ImageNet, que é um modelo famoso para reconhecimento de imagens que o próprio Keras disponibiliza"
   ]
  },
  {
   "cell_type": "code",
   "execution_count": 4,
   "metadata": {},
   "outputs": [],
   "source": [
    "from tensorflow import keras\n",
    "\n",
    "base_model = keras.applications.VGG16(\n",
    "    weights='imagenet',\n",
    "    input_shape=(224, 224, 3),\n",
    "    include_top=False)"
   ]
  },
  {
   "cell_type": "code",
   "execution_count": 5,
   "metadata": {},
   "outputs": [
    {
     "name": "stdout",
     "output_type": "stream",
     "text": [
      "Model: \"vgg16\"\n",
      "_________________________________________________________________\n",
      "Layer (type)                 Output Shape              Param #   \n",
      "=================================================================\n",
      "input_1 (InputLayer)         [(None, 224, 224, 3)]     0         \n",
      "_________________________________________________________________\n",
      "block1_conv1 (Conv2D)        (None, 224, 224, 64)      1792      \n",
      "_________________________________________________________________\n",
      "block1_conv2 (Conv2D)        (None, 224, 224, 64)      36928     \n",
      "_________________________________________________________________\n",
      "block1_pool (MaxPooling2D)   (None, 112, 112, 64)      0         \n",
      "_________________________________________________________________\n",
      "block2_conv1 (Conv2D)        (None, 112, 112, 128)     73856     \n",
      "_________________________________________________________________\n",
      "block2_conv2 (Conv2D)        (None, 112, 112, 128)     147584    \n",
      "_________________________________________________________________\n",
      "block2_pool (MaxPooling2D)   (None, 56, 56, 128)       0         \n",
      "_________________________________________________________________\n",
      "block3_conv1 (Conv2D)        (None, 56, 56, 256)       295168    \n",
      "_________________________________________________________________\n",
      "block3_conv2 (Conv2D)        (None, 56, 56, 256)       590080    \n",
      "_________________________________________________________________\n",
      "block3_conv3 (Conv2D)        (None, 56, 56, 256)       590080    \n",
      "_________________________________________________________________\n",
      "block3_pool (MaxPooling2D)   (None, 28, 28, 256)       0         \n",
      "_________________________________________________________________\n",
      "block4_conv1 (Conv2D)        (None, 28, 28, 512)       1180160   \n",
      "_________________________________________________________________\n",
      "block4_conv2 (Conv2D)        (None, 28, 28, 512)       2359808   \n",
      "_________________________________________________________________\n",
      "block4_conv3 (Conv2D)        (None, 28, 28, 512)       2359808   \n",
      "_________________________________________________________________\n",
      "block4_pool (MaxPooling2D)   (None, 14, 14, 512)       0         \n",
      "_________________________________________________________________\n",
      "block5_conv1 (Conv2D)        (None, 14, 14, 512)       2359808   \n",
      "_________________________________________________________________\n",
      "block5_conv2 (Conv2D)        (None, 14, 14, 512)       2359808   \n",
      "_________________________________________________________________\n",
      "block5_conv3 (Conv2D)        (None, 14, 14, 512)       2359808   \n",
      "_________________________________________________________________\n",
      "block5_pool (MaxPooling2D)   (None, 7, 7, 512)         0         \n",
      "=================================================================\n",
      "Total params: 14,714,688\n",
      "Trainable params: 14,714,688\n",
      "Non-trainable params: 0\n",
      "_________________________________________________________________\n"
     ]
    }
   ],
   "source": [
    "base_model.summary()"
   ]
  },
  {
   "cell_type": "markdown",
   "metadata": {},
   "source": [
    "## Congelando Base Model"
   ]
  },
  {
   "cell_type": "markdown",
   "metadata": {},
   "source": [
    "Iremos congelar as camadas do modelo de base para que o treinamento das nossas imagens não sobreponha o que ja foi treinado"
   ]
  },
  {
   "cell_type": "code",
   "execution_count": 6,
   "metadata": {},
   "outputs": [],
   "source": [
    "# Freeze base model\n",
    "base_model.trainable = False"
   ]
  },
  {
   "cell_type": "markdown",
   "metadata": {},
   "source": [
    "## Adicionando Camadas ao modelo"
   ]
  },
  {
   "cell_type": "markdown",
   "metadata": {},
   "source": [
    "Now it's time to add layers to the pretrained model. [Notebook 05b](05b_presidential_doggy_door.ipynb) can be used as a guide. Pay close attention to the last dense layer and make sure it has the correct number of neurons to classify the different types of fruit."
   ]
  },
  {
   "cell_type": "code",
   "execution_count": 7,
   "metadata": {},
   "outputs": [],
   "source": [
    "inputs = keras.Input(shape=(224, 224, 3))\n",
    "\n",
    "x = base_model(inputs, training=False)\n",
    "x = keras.layers.GlobalAveragePooling2D()(x)\n",
    "\n",
    "# Camada de Saida\n",
    "outputs = keras.layers.Dense(6, activation = 'softmax')(x)\n",
    "\n",
    "# Combine inputs and outputs to create model\n",
    "model = keras.Model(inputs,outputs)"
   ]
  },
  {
   "cell_type": "code",
   "execution_count": 8,
   "metadata": {},
   "outputs": [
    {
     "name": "stdout",
     "output_type": "stream",
     "text": [
      "Model: \"model\"\n",
      "_________________________________________________________________\n",
      "Layer (type)                 Output Shape              Param #   \n",
      "=================================================================\n",
      "input_2 (InputLayer)         [(None, 224, 224, 3)]     0         \n",
      "_________________________________________________________________\n",
      "vgg16 (Model)                (None, 7, 7, 512)         14714688  \n",
      "_________________________________________________________________\n",
      "global_average_pooling2d (Gl (None, 512)               0         \n",
      "_________________________________________________________________\n",
      "dense (Dense)                (None, 6)                 3078      \n",
      "=================================================================\n",
      "Total params: 14,717,766\n",
      "Trainable params: 3,078\n",
      "Non-trainable params: 14,714,688\n",
      "_________________________________________________________________\n"
     ]
    }
   ],
   "source": [
    "model.summary()"
   ]
  },
  {
   "cell_type": "markdown",
   "metadata": {},
   "source": [
    "## Compilando o Modelo"
   ]
  },
  {
   "cell_type": "code",
   "execution_count": 9,
   "metadata": {},
   "outputs": [],
   "source": [
    "model.compile(loss = keras.losses.CategoricalCrossentropy(from_logits=True), metrics=[keras.metrics.CategoricalAccuracy()])"
   ]
  },
  {
   "cell_type": "markdown",
   "metadata": {},
   "source": [
    "## Treinando o Modelo"
   ]
  },
  {
   "cell_type": "code",
   "execution_count": 10,
   "metadata": {},
   "outputs": [
    {
     "name": "stdout",
     "output_type": "stream",
     "text": [
      "Epoch 1/20\n",
      "37/36 [==============================] - 30s 808ms/step - loss: 1.5987 - categorical_accuracy: 0.4332 - val_loss: 1.4743 - val_categorical_accuracy: 0.5471\n",
      "Epoch 2/20\n",
      "37/36 [==============================] - 20s 543ms/step - loss: 1.3083 - categorical_accuracy: 0.7555 - val_loss: 1.2013 - val_categorical_accuracy: 0.8541\n",
      "Epoch 3/20\n",
      "37/36 [==============================] - 20s 545ms/step - loss: 1.1806 - categorical_accuracy: 0.8748 - val_loss: 1.1693 - val_categorical_accuracy: 0.8845\n",
      "Epoch 4/20\n",
      "37/36 [==============================] - 20s 550ms/step - loss: 1.1366 - categorical_accuracy: 0.9129 - val_loss: 1.1387 - val_categorical_accuracy: 0.9119\n",
      "Epoch 5/20\n",
      "37/36 [==============================] - 20s 548ms/step - loss: 1.1136 - categorical_accuracy: 0.9416 - val_loss: 1.1077 - val_categorical_accuracy: 0.9422\n",
      "Epoch 6/20\n",
      "37/36 [==============================] - 20s 550ms/step - loss: 1.0979 - categorical_accuracy: 0.9569 - val_loss: 1.0992 - val_categorical_accuracy: 0.9574\n",
      "Epoch 7/20\n",
      "37/36 [==============================] - 20s 540ms/step - loss: 1.0901 - categorical_accuracy: 0.9636 - val_loss: 1.0963 - val_categorical_accuracy: 0.9544\n",
      "Epoch 8/20\n",
      "37/36 [==============================] - 20s 536ms/step - loss: 1.0831 - categorical_accuracy: 0.9662 - val_loss: 1.0850 - val_categorical_accuracy: 0.9635\n",
      "Epoch 9/20\n",
      "37/36 [==============================] - 20s 536ms/step - loss: 1.0757 - categorical_accuracy: 0.9746 - val_loss: 1.0996 - val_categorical_accuracy: 0.9483\n",
      "Epoch 10/20\n",
      "37/36 [==============================] - 20s 545ms/step - loss: 1.0795 - categorical_accuracy: 0.9687 - val_loss: 1.0745 - val_categorical_accuracy: 0.9696\n",
      "Epoch 11/20\n",
      "37/36 [==============================] - 20s 531ms/step - loss: 1.0698 - categorical_accuracy: 0.9805 - val_loss: 1.0872 - val_categorical_accuracy: 0.9635\n",
      "Epoch 12/20\n",
      "37/36 [==============================] - 20s 539ms/step - loss: 1.0694 - categorical_accuracy: 0.9814 - val_loss: 1.0814 - val_categorical_accuracy: 0.9635\n",
      "Epoch 13/20\n",
      "37/36 [==============================] - 20s 542ms/step - loss: 1.0626 - categorical_accuracy: 0.9865 - val_loss: 1.0747 - val_categorical_accuracy: 0.9757\n",
      "Epoch 14/20\n",
      "37/36 [==============================] - 20s 542ms/step - loss: 1.0618 - categorical_accuracy: 0.9865 - val_loss: 1.0811 - val_categorical_accuracy: 0.9666\n",
      "Epoch 15/20\n",
      "37/36 [==============================] - 20s 541ms/step - loss: 1.0627 - categorical_accuracy: 0.9856 - val_loss: 1.0704 - val_categorical_accuracy: 0.9726\n",
      "Epoch 16/20\n",
      "37/36 [==============================] - 20s 550ms/step - loss: 1.0577 - categorical_accuracy: 0.9915 - val_loss: 1.0740 - val_categorical_accuracy: 0.9726\n",
      "Epoch 17/20\n",
      "37/36 [==============================] - 20s 540ms/step - loss: 1.0617 - categorical_accuracy: 0.9873 - val_loss: 1.0740 - val_categorical_accuracy: 0.9757\n",
      "Epoch 18/20\n",
      "37/36 [==============================] - 20s 536ms/step - loss: 1.0603 - categorical_accuracy: 0.9882 - val_loss: 1.0798 - val_categorical_accuracy: 0.9666\n",
      "Epoch 19/20\n",
      "37/36 [==============================] - 20s 538ms/step - loss: 1.0574 - categorical_accuracy: 0.9898 - val_loss: 1.0790 - val_categorical_accuracy: 0.9635\n",
      "Epoch 20/20\n",
      "37/36 [==============================] - 20s 538ms/step - loss: 1.0563 - categorical_accuracy: 0.9907 - val_loss: 1.0746 - val_categorical_accuracy: 0.9726\n"
     ]
    },
    {
     "data": {
      "text/plain": [
       "<tensorflow.python.keras.callbacks.History at 0x7fc0e0d3a940>"
      ]
     },
     "execution_count": 10,
     "metadata": {},
     "output_type": "execute_result"
    }
   ],
   "source": [
    "model.fit(train,\n",
    "          validation_data=valid,\n",
    "          steps_per_epoch=train.samples/train.batch_size,\n",
    "          validation_steps=valid.samples/valid.batch_size,\n",
    "          epochs=20)"
   ]
  },
  {
   "cell_type": "markdown",
   "metadata": {},
   "source": [
    "## Evaluate the Model"
   ]
  },
  {
   "cell_type": "markdown",
   "metadata": {},
   "source": [
    "Considerando uma acuracia de 98%, não será necesário realizar o fine tuning do modelo"
   ]
  },
  {
   "cell_type": "code",
   "execution_count": 11,
   "metadata": {},
   "outputs": [
    {
     "name": "stdout",
     "output_type": "stream",
     "text": [
      "11/10 [================================] - 4s 352ms/step - loss: 1.0675 - categorical_accuracy: 0.9818\n"
     ]
    },
    {
     "data": {
      "text/plain": [
       "[1.0674843788146973, 0.9817629456520081]"
      ]
     },
     "execution_count": 11,
     "metadata": {},
     "output_type": "execute_result"
    }
   ],
   "source": [
    "model.evaluate(valid, steps=valid.samples/valid.batch_size)"
   ]
  },
  {
   "cell_type": "markdown",
   "metadata": {},
   "source": [
    "# Testando"
   ]
  },
  {
   "cell_type": "code",
   "execution_count": 62,
   "metadata": {},
   "outputs": [],
   "source": [
    "mapeamento = {\n",
    "    0 : 'Maca',\n",
    "    1: 'Banana',\n",
    "    2: 'Laranja',\n",
    "    3: 'Maca Podre',\n",
    "    4: 'Banana Podre',\n",
    "    5: 'Laranja Podre',\n",
    "    \n",
    "}"
   ]
  },
  {
   "cell_type": "code",
   "execution_count": 69,
   "metadata": {},
   "outputs": [],
   "source": [
    "def define_classe(image):\n",
    "    class_prev = np.argmax(model.predict(image), axis=1)[0]\n",
    "    print('A classe prevista é: ', mapeamento[class_prev])"
   ]
  },
  {
   "cell_type": "code",
   "execution_count": 66,
   "metadata": {},
   "outputs": [
    {
     "data": {
      "image/png": "[encoded data removed]",
      "text/plain": [
       "<PIL.Image.Image image mode=RGB size=224x224 at 0x7FC0E99616A0>"
      ]
     },
     "metadata": {},
     "output_type": "display_data"
    },
    {
     "name": "stdout",
     "output_type": "stream",
     "text": [
      "A classe prevista é: Banana\n"
     ]
    }
   ],
   "source": [
    "import numpy as np\n",
    "image = Image.open('BananaPic.png')\n",
    "\n",
    "input_shape = (224, 224, 3)\n",
    "image = image.resize((224,224))\n",
    "image.show()\n",
    "image = np.array(image)\n",
    "image = np.expand_dims(image, axis=0)\n",
    "\n",
    "\n",
    "print('A classe prevista é:', mapeamento[class_prev]) "
   ]
  },
  {
   "cell_type": "code",
   "execution_count": 70,
   "metadata": {},
   "outputs": [
    {
     "data": {
      "image/png": "[encoded data removed]",
      "text/plain": [
       "<PIL.Image.Image image mode=RGB size=224x224 at 0x7FC0E8F8D278>"
      ]
     },
     "metadata": {},
     "output_type": "display_data"
    },
    {
     "name": "stdout",
     "output_type": "stream",
     "text": [
      "A classe prevista é:  Banana Podre\n"
     ]
    }
   ],
   "source": [
    "image = Image.open('RottenBananaPic.png')\n",
    "\n",
    "input_shape = (224, 224, 3)\n",
    "image = image.resize((224,224))\n",
    "image.show()\n",
    "image = np.array(image)\n",
    "image = np.expand_dims(image, axis=0)\n",
    "define_classe(image)"
   ]
  },
  {
   "cell_type": "code",
   "execution_count": null,
   "metadata": {},
   "outputs": [],
   "source": []
  }
 ],
 "metadata": {
  "kernelspec": {
   "display_name": "Python 3",
   "language": "python",
   "name": "python3"
  },
  "language_info": {
   "codemirror_mode": {
    "name": "ipython",
    "version": 3
   },
   "file_extension": ".py",
   "mimetype": "text/x-python",
   "name": "python",
   "nbconvert_exporter": "python",
   "pygments_lexer": "ipython3",
   "version": "3.6.9"
  }
 },
 "nbformat": 4,
 "nbformat_minor": 4
}
